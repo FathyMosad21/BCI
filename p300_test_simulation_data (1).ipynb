{
 "cells": [
  {
   "cell_type": "code",
   "execution_count": 43,
   "id": "498daa00-09b0-4ba9-a986-59d3c598c4a2",
   "metadata": {},
   "outputs": [],
   "source": [
    "import numpy as np\n",
    "import pandas as pd\n",
    "import seaborn as sns\n",
    "import matplotlib.pyplot as plt\n",
    "import warnings\n",
    "from scipy.io import loadmat\n",
    "from scipy import signal\n",
    "from sklearn.preprocessing import scale\n",
    "import mne\n",
    "import tensorflow as tf\n",
    "from keras.layers import *\n",
    "from keras.models import Model\n",
    "from keras import backend as K\n",
    "from keras import Sequential\n",
    "from keras.callbacks import ModelCheckpoint\n",
    "from keras.callbacks import EarlyStopping\n",
    "from sklearn.metrics import confusion_matrix\n",
    "from sklearn.preprocessing import scale\n",
    "from sklearn.preprocessing import MinMaxScaler\n",
    "from tensorflow.python.tools import module_util\n",
    "warnings.filterwarnings('ignore')"
   ]
  },
  {
   "cell_type": "code",
   "execution_count": 44,
   "id": "c4057aea-2dd7-405a-8b32-e79592df6130",
   "metadata": {},
   "outputs": [
    {
     "name": "stdout",
     "output_type": "stream",
     "text": [
      "(125, 7794, 64)\n",
      "(125, 7794)\n",
      "(125, 7794)\n",
      "(125,)\n"
     ]
    }
   ],
   "source": [
    "sim_signals = np.load(\"sim_input.npy\")     \n",
    "sim_flashing = np.load(\"sim_flashing.npy\") \n",
    "sim_stimulus = np.load(\"sim_stimulus.npy\")  \n",
    "sim_targets = np.load(\"sim_targets.npy\") \n",
    "print(sim_signals.shape)\n",
    "print(sim_flashing.shape)\n",
    "print(sim_stimulus.shape)\n",
    "print(sim_targets.shape)\n",
    "model_path=r\"C:\\Users\\Delll\\cnn1_A&B_simulation\\model.weights.h5\""
   ]
  },
  {
   "cell_type": "code",
   "execution_count": 45,
   "id": "0f1988cf-9c11-447c-970b-29d0ac63aef4",
   "metadata": {},
   "outputs": [
    {
     "name": "stdout",
     "output_type": "stream",
     "text": [
      "**********************************\n",
      "        TEST SET INFORMATION      \n",
      "**********************************\n",
      "Sampling Frequency: 240 Hz [4.17 ms]\n",
      "Session duration:   67.66 min\n",
      "Number of letters:  125\n",
      "Number of samples for each character in trials:  7794\n",
      "Spelled word:  XPLZCOR7FZDEZ1PI9NNVRQJURMEUOOOJUYP6GYEGA5HNXOOTDOLEEFAEEWK4R3UMRMROOMUXJOHUVEOGLOOADEFTWEOALZP9OCGE1YQU7K_YJDVDNXDBV2B5FDIDR\n"
     ]
    }
   ],
   "source": [
    "signals_test = sim_signals\n",
    "flashing_test = sim_flashing\n",
    "stimulus_code_test = sim_stimulus\n",
    "word_test = np.array([''.join(sim_targets)])\n",
    "\n",
    "\n",
    "SAMPLING_FREQUENCY = 240\n",
    "# From the dataset description we know that there are 15 repetitions\n",
    "REPETITIONS = 15\n",
    "# Compute the duration of the recording in minutes\n",
    "RECORDING_DURATION_TEST = (len(signals_test))*(len(signals_test[0]))/(SAMPLING_FREQUENCY*60)\n",
    "# Compute number of trials\n",
    "TRIALS_TEST = len(word_test[0])\n",
    "# Number of samples for each character in trials\n",
    "SAMPLES_PER_TRIAL_TEST = len(signals_test[0])\n",
    "\n",
    "print(\"**********************************\")\n",
    "print(\"        TEST SET INFORMATION      \")\n",
    "print(\"**********************************\")\n",
    "print(\"Sampling Frequency: %d Hz [%.2f ms]\" % (SAMPLING_FREQUENCY, (1000/SAMPLING_FREQUENCY)))\n",
    "print(\"Session duration:   %.2f min\" % RECORDING_DURATION_TEST)\n",
    "print(\"Number of letters:  %d\" % TRIALS_TEST)\n",
    "print(\"Number of samples for each character in trials:  %d\" % SAMPLES_PER_TRIAL_TEST)\n",
    "print(\"Spelled word:  %s\" % ''.join(word_test))"
   ]
  },
  {
   "cell_type": "code",
   "execution_count": 46,
   "id": "ab5c6eb6-9a2a-46a6-af3d-4ece646f5d1a",
   "metadata": {},
   "outputs": [
    {
     "name": "stdout",
     "output_type": "stream",
     "text": [
      "list_matrix :\n",
      "['A', 'G', 'M', 'S', 'Y', '5'] column 1\n",
      "['B', 'H', 'N', 'T', 'Z', '6'] column 2\n",
      "['C', 'I', 'O', 'U', '1', '7'] column 3\n",
      "['D', 'J', 'P', 'V', '2', '8'] column 4\n",
      "['E', 'K', 'Q', 'W', '3', '9'] column 5\n",
      "['F', 'L', 'R', 'X', '4', '_'] column 6\n",
      "----------------------------------------\n",
      "['A', 'B', 'C', 'D', 'E', 'F'] row 1\n",
      "['G', 'H', 'I', 'J', 'K', 'L'] row 2\n",
      "['M', 'N', 'O', 'P', 'Q', 'R'] row 3\n",
      "['S', 'T', 'U', 'V', 'W', 'X'] row 4\n",
      "['Y', 'Z', '1', '2', '3', '4'] row 5\n",
      "['5', '6', '7', '8', '9', '_'] row 6\n"
     ]
    }
   ],
   "source": [
    "import string\n",
    "import numpy as np\n",
    "\n",
    "# Create characters matrix (6*6) all values =0\n",
    "s = string.ascii_uppercase + '1' + '2' + '3' + '4' + '5' + '6' + '7' + '8' + '9' + '_'\n",
    "\n",
    "# Append cols and rows in a list\n",
    "list_matrix = []\n",
    "for i in range(6):\n",
    "    col = [s[j] for j in range(i, 36, 6)]  # Columns\n",
    "    list_matrix.append(col)\n",
    "for i in range(6):\n",
    "    row = [s[j] for j in range(i * 6, i * 6 + 6)]  # Rows\n",
    "    list_matrix.append(row)\n",
    "\n",
    "print('list_matrix :')  # 0:11 (0:5 columns , 6:11 rows)\n",
    "for idx, item in enumerate(list_matrix):\n",
    "    if idx < 6:\n",
    "        print(item, 'column ' + str(idx + 1))\n",
    "    else:\n",
    "        if idx == 6:\n",
    "            print('-' * 40)\n",
    "        print(item, 'row ' + str(idx - 5))\n",
    "\n",
    "\n",
    "# Create StimulusType array for the test set (missing from the given database)\n",
    "stimulus_test = [[0 for j in range(SAMPLES_PER_TRIAL_TEST)] for i in range(TRIALS_TEST)]\n",
    "stimulus_test = np.array(stimulus_test)\n",
    "\n",
    "# Processing test data\n",
    "for trial in range(TRIALS_TEST):\n",
    "    counter = 0\n",
    "    for sample in range(SAMPLES_PER_TRIAL_TEST):\n",
    "        index = int(stimulus_code_test[trial, sample]) - 1\n",
    "        if not index == -1:\n",
    "            if word_test[0][trial] in list_matrix[index]:\n",
    "                stimulus_test[trial, sample] = 1\n",
    "            else:\n",
    "                stimulus_test[trial, sample] = 0\n",
    "\n",
    "# Now stimulus_test is ready for use.\n"
   ]
  },
  {
   "cell_type": "code",
   "execution_count": 47,
   "id": "a7b6d846-f768-4ede-9cf6-4455115e2a20",
   "metadata": {},
   "outputs": [],
   "source": [
    "# Application of butterworth filter\n",
    "b, a = signal.butter(4, [0.1/SAMPLING_FREQUENCY, 20/SAMPLING_FREQUENCY], 'bandpass')\n",
    "for trial in range(TRIALS_TEST):\n",
    "    signals_test[trial, :, :] = signal.filtfilt(b, a, signals_test[trial, :, :], axis=0)"
   ]
  },
  {
   "cell_type": "code",
   "execution_count": 48,
   "id": "c95a4cde-2e51-411a-b5f1-6b4ccba6b809",
   "metadata": {},
   "outputs": [
    {
     "name": "stdout",
     "output_type": "stream",
     "text": [
      "# Samples of EEG signals before downsampling: 7794\n",
      "# Samples of EEG signals after downsampling: 3897\n"
     ]
    }
   ],
   "source": [
    "# Down-sampling of the signals from 240Hz to 120Hz\n",
    "DOWNSAMPLING_FREQUENCY = 120\n",
    "SCALE_FACTOR = round(SAMPLING_FREQUENCY / DOWNSAMPLING_FREQUENCY)\n",
    "SAMPLING_FREQUENCY = DOWNSAMPLING_FREQUENCY\n",
    "\n",
    "print(\"# Samples of EEG signals before downsampling: {}\".format(len(signals_test[0])))\n",
    "\n",
    "signals_test = signals_test[:, 0:-1:SCALE_FACTOR, :]\n",
    "flashing_test = flashing_test[:, 0:-1:SCALE_FACTOR]\n",
    "stimulus_test = stimulus_test[:, 0:-1:SCALE_FACTOR]\n",
    "stimulus_code_test = stimulus_code_test[:, 0:-1:SCALE_FACTOR]\n",
    "\n",
    "print(\"# Samples of EEG signals after downsampling: {}\".format(len(signals_test[0])))"
   ]
  },
  {
   "cell_type": "code",
   "execution_count": 49,
   "id": "3d0cd554-6b57-4530-b268-a1fc14636f1b",
   "metadata": {},
   "outputs": [
    {
     "name": "stdout",
     "output_type": "stream",
     "text": [
      "Features tensor shape: (22500, 78, 64)\n"
     ]
    }
   ],
   "source": [
    "# Number of EEG channels\n",
    "CHANNELS = [i for i in range(64)]\n",
    "N_CHANNELS = len(CHANNELS)\n",
    "# Window duration after each flashing [ms]\n",
    "WINDOW_DURATION = 650\n",
    "# Number of samples of each window\n",
    "WINDOW_SAMPLES = round(SAMPLING_FREQUENCY * (WINDOW_DURATION / 1000))\n",
    "# Number of samples for each character in trials\n",
    "SAMPLES_PER_TRIAL_TEST = len(signals_test[0])\n",
    "\n",
    "test_features = []\n",
    "test_labels = []\n",
    "windowed_stimulus = []\n",
    "\n",
    "count_positive = 0\n",
    "count_negative = 0\n",
    "\n",
    "for trial in range(TRIALS_TEST):\n",
    "    for sample in (range(SAMPLES_PER_TRIAL_TEST)):\n",
    "        if (sample == 0) or (flashing_test[trial, sample-1] == 0 and flashing_test[trial, sample] == 1):\n",
    "            lower_sample = sample\n",
    "            upper_sample = sample + WINDOW_SAMPLES\n",
    "            window = signals_test[trial, lower_sample:upper_sample, :]\n",
    "            # Extracting number of row/col in a window\n",
    "            number_stimulus = int(stimulus_code_test[trial, sample])\n",
    "            windowed_stimulus.append(number_stimulus)\n",
    "            # Features extraction\n",
    "            test_features.append(window)\n",
    "            # Labels extraction\n",
    "            #print(f\"stimulus_test shape: {stimulus_test.shape}\")\n",
    "            #print(f\"Current trial: {trial}, Current sample: {sample}\")\n",
    "\n",
    "            if stimulus_test[trial, sample] == 1:\n",
    "                count_positive += 1\n",
    "                test_labels.append(1) # Class P300\n",
    "            else:\n",
    "                count_negative += 1\n",
    "                test_labels.append(0) # Class no-P300\n",
    "\n",
    "# Get test weights to take into account the number of classes\n",
    "test_weights = []\n",
    "for i in range(len(test_labels)):\n",
    "    if test_labels[i] == 1:\n",
    "        test_weights.append(len(test_labels)/count_positive)\n",
    "    else:\n",
    "        test_weights.append(len(test_labels)/count_negative)\n",
    "test_weights = np.array(test_weights)\n",
    "\n",
    "# Convert lists to numpy arrays\n",
    "test_features = np.array(test_features)\n",
    "test_labels = np.array(test_labels)\n",
    "\n",
    "# 3D tensor (SAMPLES, 64, 78)\n",
    "dim_test = test_features.shape\n",
    "print(\"Features tensor shape: {}\".format(dim_test))"
   ]
  },
  {
   "cell_type": "code",
   "execution_count": 50,
   "id": "6d382720-1f7a-44f2-867b-16aed4769d75",
   "metadata": {},
   "outputs": [],
   "source": [
    "# Data normalization Zi = (Xi - mu) / sigma\n",
    "for pattern in range(len(test_features)):\n",
    "    test_features[pattern] = scale(test_features[pattern], axis=0)"
   ]
  },
  {
   "cell_type": "code",
   "execution_count": 51,
   "id": "367c27e9-7f07-4ab9-991f-9dd27ee2c447",
   "metadata": {},
   "outputs": [],
   "source": [
    "# Randomizing function for bias and weights of the network\n",
    "def cecotti_normal(shape, dtype = None, partition_info = None):\n",
    "    if len(shape) == 1:\n",
    "        fan_in = shape[0]\n",
    "    elif len(shape) == 2:\n",
    "        fan_in = shape[0]\n",
    "    else:\n",
    "        receptive_field_size = 1\n",
    "        for dim in shape[:-2]:\n",
    "            receptive_field_size *= dim\n",
    "        fan_in = shape[-2] * receptive_field_size\n",
    "    return tf.random.normal(shape, mean = 0.0, stddev = (1.0 / fan_in))"
   ]
  },
  {
   "cell_type": "code",
   "execution_count": 52,
   "id": "068eaaac-6a29-4b97-a01c-7d9c010d6744",
   "metadata": {},
   "outputs": [],
   "source": [
    "# Custom tanh activation function\n",
    "def scaled_tanh(z):\n",
    "    return 1.7159 * tf.tanh((2.0 / 3.0) * z)"
   ]
  },
  {
   "cell_type": "code",
   "execution_count": 53,
   "id": "8933f3ab-e3e4-4466-9b30-d9329ef63449",
   "metadata": {},
   "outputs": [],
   "source": [
    "from tensorflow.keras.layers import Conv1D, Dropout, Flatten, Dense, BatchNormalization, GlobalAveragePooling1D\n",
    "# Build the model\n",
    "def CNN1_model(channels=64, filters=10):\n",
    "    model = Sequential([\n",
    "            Conv1D(\n",
    "                filters = filters,\n",
    "                kernel_size = 1,\n",
    "                padding = \"same\",\n",
    "                bias_initializer = cecotti_normal,\n",
    "                kernel_initializer = cecotti_normal,\n",
    "                use_bias = True,\n",
    "                activation = \"relu\",\n",
    "                input_shape = (78, channels),\n",
    "                #kernel_regularizer=L2(0.01)\n",
    "                  ),\n",
    "            Dropout(0.1),\n",
    "            Conv1D(\n",
    "                filters = 55,\n",
    "                kernel_size = 13,\n",
    "                padding = \"valid\",\n",
    "                strides = 11,\n",
    "                bias_initializer = cecotti_normal,\n",
    "                kernel_initializer = cecotti_normal,\n",
    "                use_bias = True,\n",
    "                activation = \"relu\"\n",
    "                  ),\n",
    "            Dropout(0.25),\n",
    "            Flatten(),\n",
    "            Dense(100, activation=\"relu\"),\n",
    "            Dropout(0.35),\n",
    "            Dense(30, activation=\"relu\"),\n",
    "            Dropout(0.1),\n",
    "            Dense(1, activation=\"sigmoid\")\n",
    "        ])\n",
    "    model.compile(optimizer = Adam(0.001), loss = 'mean_squared_error', metrics = ['accuracy'])\n",
    "    return model"
   ]
  },
  {
   "cell_type": "code",
   "execution_count": 54,
   "id": "deada615-b63b-43ec-8077-ed2d90c15134",
   "metadata": {},
   "outputs": [],
   "source": [
    "from tensorflow.keras.optimizers import Adam \n",
    "channels = 64\n",
    "filters = 10\n",
    "model = CNN1_model(channels, filters)\n",
    "model.load_weights(\"D:/DOCS/Desktop/P300 PY/model.weights.h5\")\n",
    "\n",
    "model.compile(optimizer='adam', loss='mean_squared_error', metrics=['accuracy'])\n",
    "model_dict = {1: model}"
   ]
  },
  {
   "cell_type": "code",
   "execution_count": 55,
   "id": "4e67f49f-f4f7-4d3a-8383-c90a5cfc7897",
   "metadata": {},
   "outputs": [
    {
     "name": "stdout",
     "output_type": "stream",
     "text": [
      "\u001b[1m704/704\u001b[0m \u001b[32m━━━━━━━━━━━━━━━━━━━━\u001b[0m\u001b[37m\u001b[0m \u001b[1m16s\u001b[0m 19ms/step\n",
      "Model CNN1: accuracy on test set: 72.6178%\n"
     ]
    }
   ],
   "source": [
    "# Accuracy over the testing set\n",
    "predictions = model.predict(test_features).flatten()\n",
    "\n",
    "# Model evaluation\n",
    "score = sum(test_labels[i] == predictions[i].round() for i in range(len(test_labels))) / len(predictions)\n",
    "\n",
    "# Print accuracy\n",
    "print(\"Model CNN1: accuracy on test set: {}%\".format(round(score * 100, 4)))\n"
   ]
  },
  {
   "cell_type": "code",
   "execution_count": 56,
   "id": "ac441362-2508-4942-a162-c38b388e5cb5",
   "metadata": {},
   "outputs": [
    {
     "name": "stdout",
     "output_type": "stream",
     "text": [
      "\u001b[1m704/704\u001b[0m \u001b[32m━━━━━━━━━━━━━━━━━━━━\u001b[0m\u001b[37m\u001b[0m \u001b[1m13s\u001b[0m 19ms/step\n",
      "Accuracy with threshold 0.5: 0.7262\n",
      "              precision    recall  f1-score   support\n",
      "\n",
      "           0       0.91      0.74      0.82     18750\n",
      "           1       0.33      0.64      0.44      3750\n",
      "\n",
      "    accuracy                           0.73     22500\n",
      "   macro avg       0.62      0.69      0.63     22500\n",
      "weighted avg       0.82      0.73      0.76     22500\n",
      "\n"
     ]
    }
   ],
   "source": [
    "y_probs = model.predict(test_features)\n",
    "\n",
    "threshold = 0.5\n",
    "predictions = (y_probs >= threshold).astype(int)\n",
    "\n",
    "from sklearn.metrics import accuracy_score, classification_report\n",
    "accuracy = accuracy_score(test_labels, predictions)\n",
    "print(f\"Accuracy with threshold {threshold}: {accuracy:.4f}\")\n",
    "print(classification_report(test_labels, predictions))"
   ]
  },
  {
   "cell_type": "code",
   "execution_count": 57,
   "id": "ab79edfb-f1da-4cd8-8aa1-14cc108ed8ee",
   "metadata": {},
   "outputs": [
    {
     "data": {
      "image/png": "[encoded data removed]",
      "text/plain": [
       "<Figure size 600x500 with 2 Axes>"
      ]
     },
     "metadata": {},
     "output_type": "display_data"
    }
   ],
   "source": [
    "# Weighted confusion matrix (noP300: 80%, P300: 20%)\n",
    "data = confusion_matrix(y_true=test_labels, y_pred=predictions, sample_weight=test_weights)\n",
    "\n",
    "# Normalized confusion matrix (values in range 0-1)\n",
    "data_norm = data/np.full(data.shape, len(test_labels))\n",
    "\n",
    "plt.figure(figsize=(6, 5))\n",
    "plt.imshow(data_norm, interpolation='nearest', cmap='Blues')\n",
    "plt.title(\"CNN1 confusion matrix\\n\", fontsize=20)\n",
    "plt.colorbar()\n",
    "classes = np.unique(test_labels)\n",
    "plt.xticks(np.arange(len(classes)), classes, rotation=45)\n",
    "plt.yticks(np.arange(len(classes)), classes)\n",
    "\n",
    "for i in range(len(classes)):\n",
    "    for j in range(len(classes)):\n",
    "        plt.text(j, i, f'{data_norm[i, j]:.2f}', ha=\"center\", va=\"center\", color=\"black\", fontsize=16)\n",
    "\n",
    "plt.xlabel('Predicted')\n",
    "plt.ylabel('Actual')\n",
    "plt.tight_layout()\n",
    "plt.show()"
   ]
  },
  {
   "cell_type": "code",
   "execution_count": 58,
   "id": "7d574aeb-2df6-4c6d-a03d-378b82f653db",
   "metadata": {},
   "outputs": [],
   "source": [
    "# If intersection is valid (row-col) and returns char, otherwise returns none\n",
    "def check_letter(x, y):\n",
    "    # Check if x and y are two columns or two rows\n",
    "    if ((x >= 1 and x <= 6) and (y >= 1 and y <= 6)) or ((x >= 7 and x <= 12) and (y >= 7 and y <= 12)):\n",
    "        return None\n",
    "    else:\n",
    "        list1 = list_matrix[x - 1]\n",
    "        list2 = list_matrix[y - 1]\n",
    "        for c in list1:\n",
    "            # If char is also in list2, it is the intesection of col and row\n",
    "            if c in list2:\n",
    "                return c"
   ]
  },
  {
   "cell_type": "code",
   "execution_count": 59,
   "id": "40359d42-6eb6-4caf-b2d9-24fdd89a7150",
   "metadata": {},
   "outputs": [],
   "source": [
    "# Returns the intersection for all permutations of columns and rows\n",
    "def check_intersect(list_colrow):\n",
    "    intersect = []\n",
    "    for x in range(len(list_colrow)-1):\n",
    "        for y in range(x+1, len(list_colrow)):\n",
    "            tmp = check_letter(list_colrow[x], list_colrow[y])\n",
    "            if tmp:\n",
    "                intersect.append(tmp)\n",
    "    return intersect"
   ]
  },
  {
   "cell_type": "code",
   "execution_count": 60,
   "id": "2954ca65-aec7-4f1e-9427-541d7400a21d",
   "metadata": {},
   "outputs": [],
   "source": [
    "# Keeps track of multiple occurrences during epochs\n",
    "def dict_predictions(predictions, stimulus, n_epoch, A=1, B=0):\n",
    "    # A: Certainty decreses with number of possible guesses\n",
    "    # B: Certainty increases with number of epochs processed\n",
    "    dict_char = {}\n",
    "    for epoch in range(1, n_epoch + 1):\n",
    "        list_flash = []\n",
    "        for index in range(12):\n",
    "            # Obtain single epoch of data\n",
    "            pred = predictions[12*(epoch-1):12*epoch]\n",
    "            stim = stimulus[12*(epoch-1):12*epoch]\n",
    "            # Sort pred following 1->12 col/row ordering\n",
    "            sorted_pred = sort_predictions(pred, stim)\n",
    "            # Round predictions to contain only 1 and 0\n",
    "            round_pred = round_argmax(sorted_pred)\n",
    "            # Append cols and rows number where there's a flash\n",
    "            if round_pred[index] == 1:\n",
    "                list_flash.append(index+1)\n",
    "        # Get all intersections and create dict with all occurrences\n",
    "        intersect = check_intersect(list_flash)\n",
    "        for inter in intersect:\n",
    "            if inter not in dict_char.keys():\n",
    "                dict_char[inter] = A*(1/len(intersect)) + B*((epoch+1)/n_epoch)\n",
    "            else:\n",
    "                dict_char[inter] += A*(1/len(intersect)) + B*((epoch+1)/n_epoch)\n",
    "    return dict_char"
   ]
  },
  {
   "cell_type": "code",
   "execution_count": 61,
   "id": "c9133cf6-80b3-477b-b66a-52346e498d9c",
   "metadata": {},
   "outputs": [],
   "source": [
    "# Get list of all char predictions\n",
    "def char_predictions(sorted_pred):\n",
    "    # Precodition1: sorted_pred sorteded by col/row enumeration\n",
    "    # Precodition2: takes only 1 epoch at the time\n",
    "    list_flash = []\n",
    "    for index in range(12):\n",
    "        if sorted_pred[index] == 1:\n",
    "            list_flash.append(index + 1)\n",
    "    intersect = check_intersect(list_flash)\n",
    "    return intersect"
   ]
  },
  {
   "cell_type": "code",
   "execution_count": 62,
   "id": "aaeaf561-3c6e-413e-b774-b06350e97e6d",
   "metadata": {},
   "outputs": [],
   "source": [
    "# Rounds and adjusts predictions to contain two 1 and ten 0\n",
    "def round_argmax(sorted_pred):\n",
    "    # Precodition1: sorted_pred sorteded by col/row enumeration\n",
    "    # Precodition2: takes only 1 epoch at the time\n",
    "    adjust_cols = [0 for i in range(6)]\n",
    "    adjust_rows = [0 for i in range(6)]\n",
    "    sortcols = list(sorted_pred[:6])\n",
    "    sortrows = list(sorted_pred[6:])\n",
    "    sortcols.sort()\n",
    "    sortrows.sort()\n",
    "    for i in range(6):\n",
    "        if sorted_pred[i] == sortcols[-1]:\n",
    "            adjust_cols[i] = 1\n",
    "    for i in range(6):\n",
    "        if sorted_pred[6+i] == sortrows[-1]:\n",
    "            adjust_rows[i] = 1\n",
    "    return adjust_cols + adjust_rows"
   ]
  },
  {
   "cell_type": "code",
   "execution_count": 63,
   "id": "f97f389b-73b1-4133-a8fb-fac1f3d19a01",
   "metadata": {},
   "outputs": [],
   "source": [
    "# Sort pred following 1->12 col/row ordering\n",
    "def sort_predictions(predictions, stimulus):\n",
    "    # Precondition: takes only 1 epoch at the time\n",
    "    sorted_pred = [0 for i in range(12)]\n",
    "    for index in range(12):\n",
    "        sorted_pred[int(stimulus[index]) - 1] = predictions[index]\n",
    "    return sorted_pred"
   ]
  },
  {
   "cell_type": "code",
   "execution_count": 64,
   "id": "289458de-3fb0-4194-9243-fafc2dfeadc8",
   "metadata": {},
   "outputs": [],
   "source": [
    "# Estimate the expected values for each prediction in n epochs\n",
    "def mean_predictions(predictions, stimulus, n_epoch):\n",
    "    epoch_matrix = []\n",
    "    for epoch in range(1, n_epoch + 1):\n",
    "        # Obtain single epoch of data\n",
    "        pred = predictions[12*(epoch-1):12*epoch]\n",
    "        stim = stimulus[12*(epoch-1):12*epoch]\n",
    "        # Sort pred following 1->12 col/row ordering\n",
    "        sorted_pred = sort_predictions(pred, stim)\n",
    "        # Append sorted epoch of pred into matrix\n",
    "        epoch_matrix.append(sorted_pred)\n",
    "    # Mean over n_epochs to improve estimation of prediction\n",
    "    return np.array(epoch_matrix).mean(axis=0)"
   ]
  },
  {
   "cell_type": "code",
   "execution_count": 65,
   "id": "978d0e54-1bbb-49a8-8671-99cd21ef7372",
   "metadata": {},
   "outputs": [],
   "source": [
    "# In case of ties we look at the occurrences to find the most probable\n",
    "def break_ties(word_pred, dict_pred):\n",
    "    max_occ = 0\n",
    "    max_pred = None\n",
    "    letters = []\n",
    "    results = []\n",
    "    for letter in word_pred:\n",
    "        if letter in dict_pred.keys():\n",
    "            letters.append(letter)\n",
    "            if dict_pred[letter] > max_occ:\n",
    "                max_occ = dict_pred[letter]\n",
    "    # We found a least 1 letter in the dict\n",
    "    if max_occ > 0:\n",
    "        for letter in letters:\n",
    "            if dict_pred[letter] == max_occ:\n",
    "                results.append(letter)\n",
    "    # If the tie still holds, return random element from results\n",
    "    if results:\n",
    "        return random.choice(results)\n",
    "    else:\n",
    "        return random.choice(word_pred)"
   ]
  },
  {
   "cell_type": "code",
   "execution_count": 66,
   "id": "05b08506-3bd8-4c24-bef7-5b0a35c7c1a0",
   "metadata": {},
   "outputs": [
    {
     "name": "stdout",
     "output_type": "stream",
     "text": [
      "Epoch #1\tAccuracy: 15%\n",
      "Epoch #2\tAccuracy: 31%\n",
      "Epoch #3\tAccuracy: 41%\n",
      "Epoch #4\tAccuracy: 49%\n",
      "Epoch #5\tAccuracy: 58%\n",
      "Epoch #6\tAccuracy: 69%\n",
      "Epoch #7\tAccuracy: 72%\n",
      "Epoch #8\tAccuracy: 81%\n",
      "Epoch #9\tAccuracy: 86%\n",
      "Epoch #10\tAccuracy: 91%\n",
      "Epoch #11\tAccuracy: 93%\n",
      "Epoch #12\tAccuracy: 101%\n"
     ]
    }
   ],
   "source": [
    "import random\n",
    "\n",
    "speller_pred = {}\n",
    "epochs_score = []\n",
    "for epoch in range(1, 12 + 1):\n",
    "    score = 0\n",
    "    speller_list = []\n",
    "    for n_char in range(len(word_test[0])):\n",
    "        # Ordering of predictions following col/row enumeration and then estimate expected values\n",
    "        v = mean_predictions(predictions[n_char*180 : n_char*180+12*epoch], windowed_stimulus[n_char*180 : n_char*180+12*epoch], epoch)\n",
    "        # x = argmax v(i) for 1<=i<=6, y = argmax v(i) for 7<=i<=12 [x: col P300 detection, y: row P300 detection]\n",
    "        round_v = round_argmax(v)\n",
    "        # Get intersection letter/s in the char matrix\n",
    "        word_pred = char_predictions(round_v)\n",
    "        # Get dictionary with all char occurrences during epochs\n",
    "        dict_pred = dict_predictions(predictions[n_char*180 : n_char*180+12*epoch], windowed_stimulus[n_char*180 : n_char*180+12*epoch], epoch)\n",
    "        # Break the tie by comparison between word_pred and dict_pred\n",
    "        final_pred = break_ties(word_pred, dict_pred)\n",
    "        # Calculate speller model performance\n",
    "        speller_list.append(final_pred)\n",
    "        if (word_test[0][n_char] == final_pred):\n",
    "            score += 1\n",
    "    # Save speller predictions per epoch\n",
    "    speller_pred[epoch] = speller_list\n",
    "    epochs_score.append(score)\n",
    "    print(\"Epoch #{}\\tAccuracy: {}%\".format(epoch, score))\n"
   ]
  },
  {
   "cell_type": "code",
   "execution_count": 67,
   "id": "d6c67af3-a4ed-4947-8611-ab8e44d1677c",
   "metadata": {},
   "outputs": [
    {
     "name": "stdout",
     "output_type": "stream",
     "text": [
      "EPLZFUR7BZDEZ1QI9NNDRQDURMEUO1OJUYP9G3EGA8HBXOOTDOLE3FA3AWKOR2UMRMMOOMOXJOHUVKOGLOOADFFTWEOALZP9ICGE1YKU7K_YJDVDNXDBV2B7FDIDR\n",
      "XPLZCOR7FZDEZ1PI9NNVRQJURMEUOOOJUYP6GYEGA5HNXOOTDOLEEFAEEWK4R3UMRMROOMUXJOHUVEOGLOOADEFTWEOALZP9OCGE1YQU7K_YJDVDNXDBV2B5FDIDR\n"
     ]
    }
   ],
   "source": [
    "print(''.join(speller_pred[12]))\n",
    "print(word_test[0])"
   ]
  },
  {
   "cell_type": "code",
   "execution_count": 68,
   "id": "d0d57c0a-8ae8-4b92-a455-3f805dbabb61",
   "metadata": {},
   "outputs": [
    {
     "data": {
      "image/png": "[encoded data removed]",
      "text/plain": [
       "<Figure size 700x600 with 1 Axes>"
      ]
     },
     "metadata": {},
     "output_type": "display_data"
    }
   ],
   "source": [
    "plt.figure(figsize=(7,6))\n",
    "plt.style.use('tableau-colorblind10')\n",
    "\n",
    "# Plots of loss curves during training\n",
    "plt.subplot(1,1,1)\n",
    "plt.plot(np.linspace(1,12,12), epochs_score, label=\"Accuracy\")\n",
    "plt.xticks([i for i in range(1,13,1)])\n",
    "plt.yticks([i for i in range(0,110,10)])\n",
    "ax = plt.gca()\n",
    "ax.set_xlim([1,12])\n",
    "ax.set_ylim([0,100])\n",
    "plt.xlabel(\"# Epochs\")\n",
    "plt.ylabel(\"Percentage %\")\n",
    "plt.grid(True, which='major', color='#FFFFFF', linestyle='-')\n",
    "plt.legend()\n",
    "\n",
    "plt.show()"
   ]
  },
  {
   "cell_type": "code",
   "execution_count": 69,
   "id": "c8a2e975-79b4-477c-b1ec-ab9faf07f844",
   "metadata": {},
   "outputs": [
    {
     "name": "stdout",
     "output_type": "stream",
     "text": [
      "Total letters: 125\n",
      "Correct letters: 101\n",
      "Wrong letters: 24\n",
      "Accuracy: 80.80%\n"
     ]
    }
   ],
   "source": [
    "pred = ''.join(speller_pred[12])\n",
    "true = word_test[0]\n",
    "\n",
    "correct = sum(p == t for p, t in zip(pred, true))\n",
    "total = len(true)\n",
    "wrong = total - correct\n",
    "\n",
    "print(f\"Total letters: {total}\")\n",
    "print(f\"Correct letters: {correct}\")\n",
    "print(f\"Wrong letters: {wrong}\")\n",
    "print(f\"Accuracy: {correct / total * 100:.2f}%\")"
   ]
  },
  {
   "cell_type": "code",
   "execution_count": 70,
   "id": "e959332b-b545-4d0a-91f9-f7a0042f4609",
   "metadata": {},
   "outputs": [],
   "source": [
    "with open(\"predicted_word_on_simulation_data.txt\", \"w\") as f:\n",
    "    f.write(''.join(speller_pred[12]))"
   ]
  }
 ],
 "metadata": {
  "kernelspec": {
   "display_name": "Python 3",
   "language": "python",
   "name": "python3"
  },
  "language_info": {
   "codemirror_mode": {
    "name": "ipython",
    "version": 3
   },
   "file_extension": ".py",
   "mimetype": "text/x-python",
   "name": "python",
   "nbconvert_exporter": "python",
   "pygments_lexer": "ipython3",
   "version": "3.10.0"
  }
 },
 "nbformat": 4,
 "nbformat_minor": 5
}
